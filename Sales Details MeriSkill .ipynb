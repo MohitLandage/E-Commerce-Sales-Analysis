{
 "cells": [
  {
   "cell_type": "markdown",
   "id": "ae7d75a2-2a8a-4262-941e-ac7e90902fa5",
   "metadata": {},
   "source": [
    "# Sales Details Project :)"
   ]
  },
  {
   "cell_type": "code",
   "execution_count": 1,
   "id": "c3759162-f767-4d69-b0d4-a6d6df2208f6",
   "metadata": {
    "tags": []
   },
   "outputs": [],
   "source": [
    "import numpy as np\n",
    "import pandas as pd\n",
    "import matplotlib.pyplot as plt\n",
    "import seaborn as sns\n",
    "\n",
    "\n"
   ]
  },
  {
   "cell_type": "code",
   "execution_count": 2,
   "id": "146f9f22-f95b-4e09-8d03-f717702f095d",
   "metadata": {
    "tags": []
   },
   "outputs": [
    {
     "data": {
      "text/html": [
       "<div>\n",
       "<style scoped>\n",
       "    .dataframe tbody tr th:only-of-type {\n",
       "        vertical-align: middle;\n",
       "    }\n",
       "\n",
       "    .dataframe tbody tr th {\n",
       "        vertical-align: top;\n",
       "    }\n",
       "\n",
       "    .dataframe thead th {\n",
       "        text-align: right;\n",
       "    }\n",
       "</style>\n",
       "<table border=\"1\" class=\"dataframe\">\n",
       "  <thead>\n",
       "    <tr style=\"text-align: right;\">\n",
       "      <th></th>\n",
       "      <th>Unnamed: 0</th>\n",
       "      <th>Order ID</th>\n",
       "      <th>Product</th>\n",
       "      <th>Quantity Ordered</th>\n",
       "      <th>Price Each</th>\n",
       "      <th>Order Date</th>\n",
       "      <th>Purchase Address</th>\n",
       "      <th>Month</th>\n",
       "      <th>Sales</th>\n",
       "      <th>City</th>\n",
       "      <th>Hour</th>\n",
       "    </tr>\n",
       "  </thead>\n",
       "  <tbody>\n",
       "    <tr>\n",
       "      <th>0</th>\n",
       "      <td>0</td>\n",
       "      <td>295665</td>\n",
       "      <td>Macbook Pro Laptop</td>\n",
       "      <td>1</td>\n",
       "      <td>1700.00</td>\n",
       "      <td>2019-12-30 00:01:00</td>\n",
       "      <td>136 Church St, New York City, NY 10001</td>\n",
       "      <td>12</td>\n",
       "      <td>1700.00</td>\n",
       "      <td>New York City</td>\n",
       "      <td>0</td>\n",
       "    </tr>\n",
       "    <tr>\n",
       "      <th>1</th>\n",
       "      <td>1</td>\n",
       "      <td>295666</td>\n",
       "      <td>LG Washing Machine</td>\n",
       "      <td>1</td>\n",
       "      <td>600.00</td>\n",
       "      <td>2019-12-29 07:03:00</td>\n",
       "      <td>562 2nd St, New York City, NY 10001</td>\n",
       "      <td>12</td>\n",
       "      <td>600.00</td>\n",
       "      <td>New York City</td>\n",
       "      <td>7</td>\n",
       "    </tr>\n",
       "    <tr>\n",
       "      <th>2</th>\n",
       "      <td>2</td>\n",
       "      <td>295667</td>\n",
       "      <td>USB-C Charging Cable</td>\n",
       "      <td>1</td>\n",
       "      <td>11.95</td>\n",
       "      <td>2019-12-12 18:21:00</td>\n",
       "      <td>277 Main St, New York City, NY 10001</td>\n",
       "      <td>12</td>\n",
       "      <td>11.95</td>\n",
       "      <td>New York City</td>\n",
       "      <td>18</td>\n",
       "    </tr>\n",
       "    <tr>\n",
       "      <th>3</th>\n",
       "      <td>3</td>\n",
       "      <td>295668</td>\n",
       "      <td>27in FHD Monitor</td>\n",
       "      <td>1</td>\n",
       "      <td>149.99</td>\n",
       "      <td>2019-12-22 15:13:00</td>\n",
       "      <td>410 6th St, San Francisco, CA 94016</td>\n",
       "      <td>12</td>\n",
       "      <td>149.99</td>\n",
       "      <td>San Francisco</td>\n",
       "      <td>15</td>\n",
       "    </tr>\n",
       "    <tr>\n",
       "      <th>4</th>\n",
       "      <td>4</td>\n",
       "      <td>295669</td>\n",
       "      <td>USB-C Charging Cable</td>\n",
       "      <td>1</td>\n",
       "      <td>11.95</td>\n",
       "      <td>2019-12-18 12:38:00</td>\n",
       "      <td>43 Hill St, Atlanta, GA 30301</td>\n",
       "      <td>12</td>\n",
       "      <td>11.95</td>\n",
       "      <td>Atlanta</td>\n",
       "      <td>12</td>\n",
       "    </tr>\n",
       "  </tbody>\n",
       "</table>\n",
       "</div>"
      ],
      "text/plain": [
       "   Unnamed: 0  Order ID               Product  Quantity Ordered  Price Each  \\\n",
       "0           0    295665    Macbook Pro Laptop                 1     1700.00   \n",
       "1           1    295666    LG Washing Machine                 1      600.00   \n",
       "2           2    295667  USB-C Charging Cable                 1       11.95   \n",
       "3           3    295668      27in FHD Monitor                 1      149.99   \n",
       "4           4    295669  USB-C Charging Cable                 1       11.95   \n",
       "\n",
       "            Order Date                        Purchase Address  Month  \\\n",
       "0  2019-12-30 00:01:00  136 Church St, New York City, NY 10001     12   \n",
       "1  2019-12-29 07:03:00     562 2nd St, New York City, NY 10001     12   \n",
       "2  2019-12-12 18:21:00    277 Main St, New York City, NY 10001     12   \n",
       "3  2019-12-22 15:13:00     410 6th St, San Francisco, CA 94016     12   \n",
       "4  2019-12-18 12:38:00           43 Hill St, Atlanta, GA 30301     12   \n",
       "\n",
       "     Sales            City  Hour  \n",
       "0  1700.00   New York City     0  \n",
       "1   600.00   New York City     7  \n",
       "2    11.95   New York City    18  \n",
       "3   149.99   San Francisco    15  \n",
       "4    11.95         Atlanta    12  "
      ]
     },
     "execution_count": 2,
     "metadata": {},
     "output_type": "execute_result"
    }
   ],
   "source": [
    "data = pd.read_csv(\"C:/Users/landa/Downloads/Sales Data.csv\")\n",
    "data.head()"
   ]
  },
  {
   "cell_type": "code",
   "execution_count": 3,
   "id": "1346497f-bc67-4e26-a379-c5530ae6d669",
   "metadata": {
    "tags": []
   },
   "outputs": [
    {
     "data": {
      "text/plain": [
       "Unnamed: 0          0\n",
       "Order ID            0\n",
       "Product             0\n",
       "Quantity Ordered    0\n",
       "Price Each          0\n",
       "Order Date          0\n",
       "Purchase Address    0\n",
       "Month               0\n",
       "Sales               0\n",
       "City                0\n",
       "Hour                0\n",
       "dtype: int64"
      ]
     },
     "execution_count": 3,
     "metadata": {},
     "output_type": "execute_result"
    }
   ],
   "source": [
    "## Check for missing values :-\n",
    "\n",
    "data.isnull().sum()"
   ]
  },
  {
   "cell_type": "code",
   "execution_count": 4,
   "id": "03b12fd5-0f21-4473-b2fc-050ed3ac5052",
   "metadata": {
    "tags": []
   },
   "outputs": [
    {
     "name": "stdout",
     "output_type": "stream",
     "text": [
      "<class 'pandas.core.frame.DataFrame'>\n",
      "RangeIndex: 185950 entries, 0 to 185949\n",
      "Data columns (total 11 columns):\n",
      " #   Column            Non-Null Count   Dtype  \n",
      "---  ------            --------------   -----  \n",
      " 0   Unnamed: 0        185950 non-null  int64  \n",
      " 1   Order ID          185950 non-null  int64  \n",
      " 2   Product           185950 non-null  object \n",
      " 3   Quantity Ordered  185950 non-null  int64  \n",
      " 4   Price Each        185950 non-null  float64\n",
      " 5   Order Date        185950 non-null  object \n",
      " 6   Purchase Address  185950 non-null  object \n",
      " 7   Month             185950 non-null  int64  \n",
      " 8   Sales             185950 non-null  float64\n",
      " 9   City              185950 non-null  object \n",
      " 10  Hour              185950 non-null  int64  \n",
      "dtypes: float64(2), int64(5), object(4)\n",
      "memory usage: 15.6+ MB\n"
     ]
    }
   ],
   "source": [
    "## Info :-\n",
    "data.info()"
   ]
  },
  {
   "cell_type": "code",
   "execution_count": 5,
   "id": "20003ad6-5c54-4052-8069-d6a9c3e2e387",
   "metadata": {
    "tags": []
   },
   "outputs": [],
   "source": [
    "## Droping unwaanted data :-\n",
    "data = data.drop(\"Unnamed: 0\",axis=1)"
   ]
  },
  {
   "cell_type": "code",
   "execution_count": 6,
   "id": "c6b7035d-78cc-4125-8a60-98a8de145062",
   "metadata": {
    "tags": []
   },
   "outputs": [
    {
     "data": {
      "text/plain": [
       "Index(['Order ID', 'Product', 'Quantity Ordered', 'Price Each', 'Order Date',\n",
       "       'Purchase Address', 'Month', 'Sales', 'City', 'Hour'],\n",
       "      dtype='object')"
      ]
     },
     "execution_count": 6,
     "metadata": {},
     "output_type": "execute_result"
    }
   ],
   "source": [
    "data.columns  ## data.columns() :--> Here the brackets gives the error"
   ]
  },
  {
   "cell_type": "code",
   "execution_count": 7,
   "id": "f973267a-4191-4cdc-a4d4-9523e432c19b",
   "metadata": {
    "tags": []
   },
   "outputs": [
    {
     "data": {
      "text/plain": [
       "Product\n",
       "AAA Batteries (4-pack)      31017\n",
       "AA Batteries (4-pack)       27635\n",
       "USB-C Charging Cable        23975\n",
       "Lightning Charging Cable    23217\n",
       "Wired Headphones            20557\n",
       "Name: Quantity Ordered, dtype: int64"
      ]
     },
     "execution_count": 7,
     "metadata": {},
     "output_type": "execute_result"
    }
   ],
   "source": [
    "## Finding the highest salling product :-\n",
    "\n",
    "Product_sales = data.groupby(\"Product\")[\"Quantity Ordered\"].sum()\n",
    "Product_sales\n",
    "\n",
    "## Sorting the above result using sort_values(ascending=T/F)\n",
    "Product_sales_sorted = Product_sales.sort_values(ascending=False)\n",
    "Product_sales_sorted                    \n",
    "## Get the Top-5 selling products\n",
    "\n",
    "Product_sales_sorted.head()   # To display only Top-3 products pass parameter in .head(3)\n"
   ]
  },
  {
   "cell_type": "markdown",
   "id": "1909576a-7892-4d29-8b35-b5c9a5e1ce8f",
   "metadata": {},
   "source": [
    "##### Observation :\n",
    "\n",
    "The Product \"AAA Batteries (4-pack)\" is the highest selling product and \n",
    "followed by AA Battereies (4-pack), USB-C Charging Cable, Lignhning Charging Cable and Wired Headphones."
   ]
  },
  {
   "cell_type": "code",
   "execution_count": 8,
   "id": "dfcf39ab-9164-4e64-8ed0-410b526412dd",
   "metadata": {
    "tags": []
   },
   "outputs": [
    {
     "name": "stdout",
     "output_type": "stream",
     "text": [
      "The product sold the most is: AAA Batteries (4-pack)\n"
     ]
    }
   ],
   "source": [
    "# Group the data by \"Product\" and sum up the quantities ordered\n",
    "product_sales = data.groupby(\"Product\")[\"Quantity Ordered\"].sum()\n",
    "\n",
    "# Find the product with the highest total quantity ordered\n",
    "max_product = product_sales.idxmax()\n",
    "\n",
    "# Display the result\n",
    "print(\"The product sold the most is:\", max_product)\n"
   ]
  },
  {
   "cell_type": "code",
   "execution_count": 9,
   "id": "39545bfa-bd48-4561-8e7a-c56b7d5930cf",
   "metadata": {
    "tags": []
   },
   "outputs": [
    {
     "data": {
      "text/plain": [
       "City\n",
       " San Francisco    8262203.91\n",
       " Los Angeles      5452570.80\n",
       " New York City    4664317.43\n",
       " Boston           3661642.01\n",
       " Atlanta          2795498.58\n",
       "Name: Sales, dtype: float64"
      ]
     },
     "execution_count": 9,
     "metadata": {},
     "output_type": "execute_result"
    }
   ],
   "source": [
    "## Top City by sales:-\n",
    "\n",
    "city_sales = data.groupby(\"City\")[\"Sales\"].sum()\n",
    "\n",
    "city_sales_sorted = city_sales.sort_values(ascending=False)\n",
    "city_sales_sorted\n",
    "\n",
    "## Top-5 cities by sales :\n",
    "city_sales_sorted.head()\n"
   ]
  },
  {
   "cell_type": "markdown",
   "id": "53d33f76-c974-453b-8e8b-240b58d21e96",
   "metadata": {},
   "source": [
    "##### Observation:\n",
    "\n",
    "The \"San Francisco\" has the highest sale of 8,26,2,203 USD."
   ]
  },
  {
   "cell_type": "code",
   "execution_count": 10,
   "id": "dde8333e-aec6-466a-ba19-ad72731e5494",
   "metadata": {
    "tags": []
   },
   "outputs": [
    {
     "data": {
      "text/plain": [
       "City\n",
       " San Francisco    50239\n",
       " Los Angeles      33289\n",
       " New York City    27932\n",
       " Boston           22528\n",
       " Dallas           16730\n",
       " Atlanta          16602\n",
       " Seattle          16553\n",
       " Portland         14053\n",
       " Austin           11153\n",
       "Name: Quantity Ordered, dtype: int64"
      ]
     },
     "execution_count": 10,
     "metadata": {},
     "output_type": "execute_result"
    }
   ],
   "source": [
    "## Which City has max orders : \n",
    "\n",
    "Max_order_city = data.groupby('City')['Quantity Ordered'].sum()\n",
    "Max_order_city\n",
    "\n",
    "## Sorting the by vlaues :\n",
    "Max_order_city.sort_values(ascending=False)"
   ]
  },
  {
   "cell_type": "code",
   "execution_count": null,
   "id": "5e6f5d6e-fecd-4578-910f-f7881e20dea8",
   "metadata": {},
   "outputs": [],
   "source": []
  },
  {
   "cell_type": "code",
   "execution_count": 16,
   "id": "94696801-8546-4935-879a-5ab776c5cbb6",
   "metadata": {
    "tags": []
   },
   "outputs": [
    {
     "data": {
      "text/plain": [
       "City\n",
       " San Francisco    44732\n",
       " Los Angeles      29605\n",
       " New York City    24876\n",
       " Boston           19934\n",
       " Atlanta          14881\n",
       " Dallas           14820\n",
       " Seattle          14732\n",
       " Portland         12465\n",
       " Austin            9905\n",
       "Name: City, dtype: int64"
      ]
     },
     "execution_count": 16,
     "metadata": {},
     "output_type": "execute_result"
    }
   ],
   "source": [
    "# Maximum number of Orders by city : \n",
    "\n",
    "max_order_city = data.groupby(\"City\")[\"City\"].count()\n",
    "max_order_city\n",
    "\n",
    "sorted_values = max_order_city.sort_values(ascending=False)\n",
    "sorted_values"
   ]
  },
  {
   "cell_type": "code",
   "execution_count": 17,
   "id": "e36df329-ba2f-4303-9356-07f84ed07ad9",
   "metadata": {
    "tags": []
   },
   "outputs": [
    {
     "data": {
      "image/png": "[encoded data removed]",
      "text/plain": [
       "<Figure size 640x480 with 1 Axes>"
      ]
     },
     "metadata": {},
     "output_type": "display_data"
    }
   ],
   "source": [
    "## Visualizing : \n",
    "\n",
    "data.groupby(\"City\")[\"City\"].count().sort_values(ascending=False).plot.bar()\n",
    "\n",
    "plt.xlabel(\"City Names\")\n",
    "plt.ylabel(\"Counts of Orders / Delivered Orders\")\n",
    "plt.show()"
   ]
  },
  {
   "cell_type": "markdown",
   "id": "b11ba2a4-ebff-452f-ac22-c48682dd6159",
   "metadata": {
    "tags": []
   },
   "source": [
    "Observations :\n",
    "\n",
    "    \"San Francisco\" has maximum number of orders and followed by Los Angeles, New York City, ..."
   ]
  },
  {
   "cell_type": "code",
   "execution_count": 18,
   "id": "2b5831cb-87cb-4b58-9d77-fffec66a189c",
   "metadata": {
    "tags": []
   },
   "outputs": [
    {
     "data": {
      "image/png": "[encoded data removed]",
      "text/plain": [
       "<Figure size 640x480 with 1 Axes>"
      ]
     },
     "metadata": {},
     "output_type": "display_data"
    }
   ],
   "source": [
    "Max_order_city = data.groupby('City')['Quantity Ordered'].max()\n",
    "\n",
    "data.groupby('City')['Quantity Ordered'].max().sort_values(ascending=False).plot.bar()\n",
    "\n",
    "plt.show()"
   ]
  },
  {
   "cell_type": "code",
   "execution_count": 19,
   "id": "d11354b7-7af4-40fb-b309-adeb27d963b3",
   "metadata": {
    "tags": []
   },
   "outputs": [
    {
     "data": {
      "text/plain": [
       "Month\n",
       "1     1822256.73\n",
       "2     2202022.42\n",
       "3     2807100.38\n",
       "4     3390670.24\n",
       "5     3152606.75\n",
       "6     2577802.26\n",
       "7     2647775.76\n",
       "8     2244467.88\n",
       "9     2097560.13\n",
       "10    3736726.88\n",
       "11    3199603.20\n",
       "12    4613443.34\n",
       "Name: Sales, dtype: float64"
      ]
     },
     "execution_count": 19,
     "metadata": {},
     "output_type": "execute_result"
    }
   ],
   "source": [
    "## Which Month has max sales :\n",
    "\n",
    "Max_sales_by_month = data.groupby(\"Month\")[\"Sales\"].sum()\n",
    "Max_sales_by_month"
   ]
  },
  {
   "cell_type": "code",
   "execution_count": 26,
   "id": "c72eae69-35bb-48e4-ba4a-f0d0d0ffcbcf",
   "metadata": {
    "tags": []
   },
   "outputs": [
    {
     "data": {
      "text/plain": [
       "0         Decmber\n",
       "1         Decmber\n",
       "2         Decmber\n",
       "3         Decmber\n",
       "4         Decmber\n",
       "           ...   \n",
       "185945       June\n",
       "185946       June\n",
       "185947       June\n",
       "185948       June\n",
       "185949       June\n",
       "Name: Month_Name, Length: 185950, dtype: object"
      ]
     },
     "execution_count": 26,
     "metadata": {},
     "output_type": "execute_result"
    }
   ],
   "source": [
    "## Converting month to month_name: \n",
    "\n",
    "Month_name = {1:\"January\",2:\"Feb\",3:\"March\",4:\"April\",5:\"May\",6:\"June\",7:\"July\",8:\"August\",9:\"September\",10:\"October\",11:\"Novmber\",12:\"Decmber\"}\n",
    "#data[\"Month_Name\"] = data[\"Month\"].replace(Month_name) # It also do the same process \n",
    "\n",
    "\n",
    "data[\"Month_Name\"] = data[\"Month\"].map(Month_name) ## map() function is used to apply to all the rows of dataset.\n",
    "\n",
    "data[\"Month_Name\"]"
   ]
  },
  {
   "cell_type": "markdown",
   "id": "917889c6-8286-4bbd-a9d5-1aa2eb13d884",
   "metadata": {
    "tags": []
   },
   "source": [
    "### Max number of orders by month :"
   ]
  },
  {
   "cell_type": "code",
   "execution_count": 25,
   "id": "18f50e79-db9b-4906-a0d8-f1f833a6f895",
   "metadata": {
    "tags": []
   },
   "outputs": [
    {
     "name": "stdout",
     "output_type": "stream",
     "text": [
      "Observations:\n",
      "\n",
      "The Max Orders are placed in the month: Month_Name\n",
      "Decmber      28114\n",
      "October      22703\n",
      "April        20558\n",
      "Novmber      19798\n",
      "May          18667\n",
      "March        17005\n",
      "July         16072\n",
      "June         15253\n",
      "Feb          13449\n",
      "August       13448\n",
      "September    13109\n",
      "January      10903\n",
      "Name: Quantity Ordered, dtype: int64\n"
     ]
    }
   ],
   "source": [
    "\n",
    "\n",
    "max_orders = data.groupby(\"Month_Name\")['Quantity Ordered'].sum()\n",
    "max_orders\n",
    "\n",
    "max_orders_sorted = max_orders.sort_values(ascending=False)\n",
    "max_orders_sorted\n",
    "\n",
    "print(\"Observations:\")\n",
    "\n",
    "print(end = \"\\n\")\n",
    "print(\"The Max Orders are placed in the month:\" ,max_orders_sorted)"
   ]
  },
  {
   "cell_type": "code",
   "execution_count": 27,
   "id": "cfbb4e34-beb0-439c-9165-a31aa8c94400",
   "metadata": {
    "tags": []
   },
   "outputs": [
    {
     "name": "stdout",
     "output_type": "stream",
     "text": [
      "Observation:\n",
      "\n",
      "The Top-3 Month by sales are : Month_Name\n",
      "Decmber    4613443.34\n",
      "October    3736726.88\n",
      "April      3390670.24\n",
      "Name: Sales, dtype: float64\n"
     ]
    }
   ],
   "source": [
    "Max_sales_by_month = data.groupby(\"Month_Name\")[\"Sales\"].sum()\n",
    "Max_sales_by_month\n",
    "\n",
    "# sort the result \n",
    "Max_sales_by_month_sorted = Max_sales_by_month.sort_values(ascending=False)\n",
    "\n",
    "print(\"Observation:\")\n",
    "print(end=\"\\n\")\n",
    "print(\"The Top-3 Month by sales are :\",Max_sales_by_month_sorted.head(3))"
   ]
  },
  {
   "cell_type": "code",
   "execution_count": 28,
   "id": "2fe6a6e3-10aa-4d36-a000-233d610fed74",
   "metadata": {
    "tags": []
   },
   "outputs": [
    {
     "data": {
      "text/plain": [
       "(array([ 0,  1,  2,  3,  4,  5,  6,  7,  8,  9, 10, 11]),\n",
       " [Text(0, 0, 'Decmber'),\n",
       "  Text(1, 0, 'October'),\n",
       "  Text(2, 0, 'April'),\n",
       "  Text(3, 0, 'Novmber'),\n",
       "  Text(4, 0, 'May'),\n",
       "  Text(5, 0, 'March'),\n",
       "  Text(6, 0, 'July'),\n",
       "  Text(7, 0, 'June'),\n",
       "  Text(8, 0, 'August'),\n",
       "  Text(9, 0, 'Feb'),\n",
       "  Text(10, 0, 'September'),\n",
       "  Text(11, 0, 'January')])"
      ]
     },
     "execution_count": 28,
     "metadata": {},
     "output_type": "execute_result"
    },
    {
     "data": {
      "image/png": "[encoded data removed]",
      "text/plain": [
       "<Figure size 640x480 with 1 Axes>"
      ]
     },
     "metadata": {},
     "output_type": "display_data"
    }
   ],
   "source": [
    "data.groupby(\"Month_Name\")[\"Sales\"].sum().sort_values(ascending=False).plot.bar()\n",
    "plt.xticks(rotation = 'vertical')"
   ]
  },
  {
   "cell_type": "markdown",
   "id": "5624b670-50c4-4a6c-bf6e-2e1665ff376b",
   "metadata": {},
   "source": [
    "#### Top selling products by Month:"
   ]
  },
  {
   "cell_type": "code",
   "execution_count": 29,
   "id": "9bdd2d3f-b9c6-4e68-b156-133a75439046",
   "metadata": {
    "tags": []
   },
   "outputs": [
    {
     "data": {
      "text/plain": [
       "Month_Name  Product                 \n",
       "Decmber     AAA Batteries (4-pack)      4241\n",
       "            AA Batteries (4-pack)       3724\n",
       "October     AAA Batteries (4-pack)      3363\n",
       "Decmber     USB-C Charging Cable        3250\n",
       "            Lightning Charging Cable    3087\n",
       "Novmber     AAA Batteries (4-pack)      3025\n",
       "October     AA Batteries (4-pack)       2940\n",
       "April       AAA Batteries (4-pack)      2939\n",
       "May         AAA Batteries (4-pack)      2927\n",
       "April       AA Batteries (4-pack)       2821\n",
       "Decmber     Wired Headphones            2749\n",
       "October     USB-C Charging Cable        2667\n",
       "Novmber     AA Batteries (4-pack)       2625\n",
       "October     Lightning Charging Cable    2572\n",
       "March       AAA Batteries (4-pack)      2479\n",
       "May         AA Batteries (4-pack)       2384\n",
       "April       Lightning Charging Cable    2373\n",
       "July        AAA Batteries (4-pack)      2365\n",
       "October     Wired Headphones            2274\n",
       "April       USB-C Charging Cable        2269\n",
       "Name: Quantity Ordered, dtype: int64"
      ]
     },
     "execution_count": 29,
     "metadata": {},
     "output_type": "execute_result"
    }
   ],
   "source": [
    "max_orders = data.groupby([\"Month_Name\",\"Product\"])['Quantity Ordered'].sum()\n",
    "max_orders.sort_values(ascending=False).head(20)"
   ]
  },
  {
   "cell_type": "markdown",
   "id": "6607d13d-58a2-4efb-93f5-b2b1a0a5f4cd",
   "metadata": {
    "tags": []
   },
   "source": [
    "## Observations : \n",
    "    \n",
    "    The most selling porducts in EACH Month is \"AAA Batteries (4-pack)\""
   ]
  },
  {
   "cell_type": "markdown",
   "id": "740aaba6-9423-4635-932c-817dc090942d",
   "metadata": {},
   "source": [
    "### Analysing the Price :"
   ]
  },
  {
   "cell_type": "code",
   "execution_count": 30,
   "id": "82e37007-c0db-490c-b48f-0892eb46f9c2",
   "metadata": {},
   "outputs": [
    {
     "data": {
      "text/plain": [
       "Product\n",
       "Macbook Pro Laptop            8030800.00\n",
       "iPhone                        4789400.00\n",
       "ThinkPad Laptop               4127958.72\n",
       "Google Phone                  3315000.00\n",
       "27in 4K Gaming Monitor        2429637.70\n",
       "34in Ultrawide Monitor        2348718.19\n",
       "Apple Airpods Headphones      2332350.00\n",
       "Flatscreen TV                 1440000.00\n",
       "Bose SoundSport Headphones    1332366.75\n",
       "27in FHD Monitor              1125974.93\n",
       "Vareebadd Phone                826000.00\n",
       "20in Monitor                   451068.99\n",
       "LG Washing Machine             399600.00\n",
       "LG Dryer                       387600.00\n",
       "Lightning Charging Cable       323787.10\n",
       "USB-C Charging Cable           261740.85\n",
       "Wired Headphones               226395.18\n",
       "AA Batteries (4-pack)           79015.68\n",
       "AAA Batteries (4-pack)          61716.59\n",
       "Name: Price Each, dtype: float64"
      ]
     },
     "execution_count": 30,
     "metadata": {},
     "output_type": "execute_result"
    }
   ],
   "source": [
    "##Analysing the price by each products:\n",
    "price_of_each_product = data.groupby(\"Product\")[\"Price Each\"].sum()\n",
    "price_of_each_product\n",
    "\n",
    "##Sorting the vlaues \n",
    "price_of_each_product_sorted = data.groupby(\"Product\")[\"Price Each\"].sum()\n",
    "price_of_each_product_sorted.sort_values(ascending=False)"
   ]
  },
  {
   "cell_type": "code",
   "execution_count": 31,
   "id": "c3683307-7306-4737-9489-466ab4f28f0f",
   "metadata": {
    "tags": []
   },
   "outputs": [
    {
     "data": {
      "text/plain": [
       "<Axes: xlabel='Product'>"
      ]
     },
     "execution_count": 31,
     "metadata": {},
     "output_type": "execute_result"
    },
    {
     "data": {
      "image/png": "[encoded data removed]",
      "text/plain": [
       "<Figure size 640x480 with 1 Axes>"
      ]
     },
     "metadata": {},
     "output_type": "display_data"
    }
   ],
   "source": [
    "data.groupby(\"Product\")[\"Price Each\"].sum().plot(kind=\"bar\")"
   ]
  },
  {
   "cell_type": "markdown",
   "id": "b381dd93-8af6-44d4-89cd-26f897120366",
   "metadata": {},
   "source": [
    "### Observation:\n",
    "    \n",
    "    The Product having max price is  \"Macbook Pro Laptop\" is 8030800 \n",
    "    \n",
    "    The Product having least price is \"AAA Batteries (4-pack)\" is 61716 "
   ]
  },
  {
   "cell_type": "markdown",
   "id": "e0aedfba-1d30-49db-8471-076cc8778e2e",
   "metadata": {},
   "source": [
    "### What time should we display advertisements to maximise for product purchase ?"
   ]
  },
  {
   "cell_type": "code",
   "execution_count": 16,
   "id": "10679809-3704-40d6-9a54-f09bdbf6fa65",
   "metadata": {
    "tags": []
   },
   "outputs": [],
   "source": [
    "keys=[]\n",
    "hour=[]\n",
    "for key,hour_df in data.groupby(\"Hour\"):\n",
    "    keys.append(key)\n",
    "    hour.append(len(hour_df))"
   ]
  },
  {
   "cell_type": "code",
   "execution_count": 18,
   "id": "eb69297d-ddf4-47c9-b22b-548751177832",
   "metadata": {
    "tags": []
   },
   "outputs": [
    {
     "data": {
      "text/plain": [
       "[<matplotlib.lines.Line2D at 0x136d5303b10>]"
      ]
     },
     "execution_count": 18,
     "metadata": {},
     "output_type": "execute_result"
    },
    {
     "data": {
      "image/png": "[encoded data removed]",
      "text/plain": [
       "<Figure size 640x480 with 1 Axes>"
      ]
     },
     "metadata": {},
     "output_type": "display_data"
    }
   ],
   "source": [
    "plt.grid()\n",
    "plt.plot(keys,hour)"
   ]
  },
  {
   "cell_type": "markdown",
   "id": "bc6f1583-21fc-4ef1-a775-388c3d3536b1",
   "metadata": {},
   "source": [
    "### Observation:\n",
    "\n",
    "    The time between 12 pm and 7 pm is probably the best time to advertise to maximise product pruchase "
   ]
  },
  {
   "cell_type": "code",
   "execution_count": 35,
   "id": "4a6ff86b-d82e-4ed2-9420-87b2c6363382",
   "metadata": {
    "tags": []
   },
   "outputs": [
    {
     "data": {
      "text/plain": [
       "Product\n",
       "20in Monitor                   109.99\n",
       "27in 4K Gaming Monitor         389.99\n",
       "27in FHD Monitor               149.99\n",
       "34in Ultrawide Monitor         379.99\n",
       "AA Batteries (4-pack)            3.84\n",
       "AAA Batteries (4-pack)           2.99\n",
       "Apple Airpods Headphones       150.00\n",
       "Bose SoundSport Headphones      99.99\n",
       "Flatscreen TV                  300.00\n",
       "Google Phone                   600.00\n",
       "LG Dryer                       600.00\n",
       "LG Washing Machine             600.00\n",
       "Lightning Charging Cable        14.95\n",
       "Macbook Pro Laptop            1700.00\n",
       "ThinkPad Laptop                999.99\n",
       "USB-C Charging Cable            11.95\n",
       "Vareebadd Phone                400.00\n",
       "Wired Headphones                11.99\n",
       "iPhone                         700.00\n",
       "Name: Price Each, dtype: float64"
      ]
     },
     "execution_count": 35,
     "metadata": {},
     "output_type": "execute_result"
    }
   ],
   "source": [
    "## The Average of the Each Product:\n",
    "\n",
    "data.groupby(\"Product\")[\"Price Each\"].mean()"
   ]
  },
  {
   "cell_type": "markdown",
   "id": "333011e7-b33f-4e96-b64b-6556f5d610d3",
   "metadata": {
    "tags": []
   },
   "source": [
    "\n",
    "The Top selling products \"AAA Batteries (4-pack)\". The top selling products seem to have a correlation with the price of the product. The cheaper the \n",
    "product higher the ordered quantity and vice versa."
   ]
  },
  {
   "cell_type": "code",
   "execution_count": null,
   "id": "18fa1336-2310-42a5-a5ab-e1db1ab5fc77",
   "metadata": {},
   "outputs": [],
   "source": []
  }
 ],
 "metadata": {
  "kernelspec": {
   "display_name": "Python 3 (ipykernel)",
   "language": "python",
   "name": "python3"
  },
  "language_info": {
   "codemirror_mode": {
    "name": "ipython",
    "version": 3
   },
   "file_extension": ".py",
   "mimetype": "text/x-python",
   "name": "python",
   "nbconvert_exporter": "python",
   "pygments_lexer": "ipython3",
   "version": "3.11.4"
  }
 },
 "nbformat": 4,
 "nbformat_minor": 5
}
